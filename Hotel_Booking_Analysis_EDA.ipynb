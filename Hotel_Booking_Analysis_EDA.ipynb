{
  "nbformat": 4,
  "nbformat_minor": 0,
  "metadata": {
    "colab": {
      "private_outputs": true,
      "provenance": [],
      "collapsed_sections": [
        "gIfDvo9L0UH2"
      ]
    },
    "kernelspec": {
      "name": "python3",
      "display_name": "Python 3"
    },
    "language_info": {
      "name": "python"
    }
  },
  "cells": [
    {
      "cell_type": "markdown",
      "source": [
        "# **Project Name**    -\n",
        "\n"
      ],
      "metadata": {
        "id": "vncDsAP0Gaoa"
      }
    },
    {
      "cell_type": "markdown",
      "source": [
        "##### **Project Type**    - EDA(Exploratory Data Analysis)\n",
        "##### **Contribution**    - Individual\n",
        "##### **Name -**            Tanvi Pawar\n"
      ],
      "metadata": {
        "id": "beRrZCGUAJYm"
      }
    },
    {
      "cell_type": "markdown",
      "source": [
        "# **Project Summary -**"
      ],
      "metadata": {
        "id": "FJNUwmbgGyua"
      }
    },
    {
      "cell_type": "markdown",
      "source": [
        "The hotel business thrives on understanding customer preferences and booking patterns to optimize operations and revenue. This case study focuses on analyzing data from two types of hotels to extract insights into their historical and current business performance. The goal is to provide actionable recommendations for improving profitability and customer satisfaction.\n",
        "\n",
        "I conducted exploratory data analysis (EDA) to uncover trends, patterns, and anomalies in the hotel booking dataset. Starting with raw data cleaning and preprocessing, I ensured the dataset was ready for analysis by removing inconsistencies and noise. Key areas of focus included:\n",
        "\n",
        "Analysis of booking volumes over time.\n",
        "Identifying the demographic and behavioral traits of customers.\n",
        "Examining price distribution across different booking scenarios.\n",
        "Studying the duration of stay and its correlation with booking preferences.\n",
        "Insights into arrival and checkout trends.\n",
        "Key findings from the analysis include:\n",
        "\n",
        "The highest number of bookings occurred in 2016, with August being the busiest month for both 2016 and 2017.\n",
        "The most popular meal plan among customers was BB (Bed and Breakfast).\n",
        "An optimal stay duration of 5 days ensures the best daily rate for customers.\n",
        "A high rate of booking cancellations was observed, highlighting a need for strategies to reduce cancellations.\n",
        "Full Board (FB) meal options require improvement to better cater to customers staying for extended durations.\n",
        "The visualizations, interactive plots, and detailed analysis presented here aim to help hotel owners understand their business better and implement strategies to attract more customers while retaining existing ones.\n",
        "\n"
      ],
      "metadata": {
        "id": "F6v_1wHtG2nS"
      }
    },
    {
      "cell_type": "markdown",
      "source": [
        "# **GitHub Link -**"
      ],
      "metadata": {
        "id": "w6K7xa23Elo4"
      }
    },
    {
      "cell_type": "markdown",
      "source": [
        "https://github.com/Tanvipawar10/Hotel-Booking-Analysis-EDA-"
      ],
      "metadata": {
        "id": "h1o69JH3Eqqn"
      }
    },
    {
      "cell_type": "markdown",
      "source": [
        "# **Problem Statement**\n"
      ],
      "metadata": {
        "id": "yQaldy8SH6Dl"
      }
    },
    {
      "cell_type": "markdown",
      "source": [
        "**Have you ever wondered when the best time of year to book a hotel room is? Or the optimal length of stay in order to get the best daily rate? What if you wanted to predict whether or not a hotel was likely to receive a disproportionately high number of special requests? This hotel booking dataset can help you explore those questions!**\n",
        "\n",
        "\n",
        "This data set contains booking information for a city hotel and a resort hotel, and includes information such as when the booking was made, length of stay, the number of adults, children, and/or babies, and the number of available parking spaces, among other things. All personally identifying information has been removed from the data. Explore and analyze the data to discover important factors that govern the bookings."
      ],
      "metadata": {
        "id": "DpeJGUA3kjGy"
      }
    },
    {
      "cell_type": "markdown",
      "source": [
        "#### **Define Your Business Objective?**"
      ],
      "metadata": {
        "id": "PH-0ReGfmX4f"
      }
    },
    {
      "cell_type": "markdown",
      "source": [
        "When planning vacations, business trips, or casual getaways to a new city, hotel bookings are an essential part of the process, and everyone seeks to optimize their stay. For some, optimization means securing a great deal at a lower price, while for others, it could be booking a luxurious suite in a 7-star hotel during a non-peak period.\n",
        "\n",
        "Using the Hotel Booking dataset, which contains tabular data on guest booking patterns, stay durations, meal preferences, and more over a year, we aim to conduct an in-depth analysis to uncover key insights and predict trends. Personally, I prioritize avoiding random price surges and prefer paying a fair, optimized rate for my stay. Additionally, ensuring a safe vacation with my loved ones is crucial, so I would favor hotels with fewer crowds and robust health and safety measures.\n",
        "\n",
        "The objective of our analysis is twofold: to assist potential guests in making informed decisions about the ideal hotel, stay duration, and other preferences, and to provide actionable insights for hotel management to enhance their services and better cater to guest needs."
      ],
      "metadata": {
        "id": "PhDvGCAqmjP1"
      }
    },
    {
      "cell_type": "markdown",
      "source": [
        "# **General Guidelines** : -  "
      ],
      "metadata": {
        "id": "mDgbUHAGgjLW"
      }
    },
    {
      "cell_type": "markdown",
      "source": [
        "1.   Well-structured, formatted, and commented code is required.\n",
        "2.   Exception Handling, Production Grade Code & Deployment Ready Code will be a plus. Those students will be awarded some additional credits.\n",
        "     \n",
        "     The additional credits will have advantages over other students during Star Student selection.\n",
        "       \n",
        "             [ Note: - Deployment Ready Code is defined as, the whole .ipynb notebook should be executable in one go\n",
        "                       without a single error logged. ]\n",
        "\n",
        "3.   Each and every logic should have proper comments.\n",
        "4. You may add as many number of charts you want. Make Sure for each and every chart the following format should be answered.\n",
        "        \n",
        "\n",
        "```\n",
        "# Chart visualization code\n",
        "```\n",
        "            \n",
        "\n",
        "*   Why did you pick the specific chart?\n",
        "*   What is/are the insight(s) found from the chart?\n",
        "* Will the gained insights help creating a positive business impact?\n",
        "Are there any insights that lead to negative growth? Justify with specific reason.\n",
        "\n",
        "5. You have to create at least 20 logical & meaningful charts having important insights.\n",
        "\n",
        "\n",
        "[ Hints : - Do the Vizualization in  a structured way while following \"UBM\" Rule.\n",
        "\n",
        "U - Univariate Analysis,\n",
        "\n",
        "B - Bivariate Analysis (Numerical - Categorical, Numerical - Numerical, Categorical - Categorical)\n",
        "\n",
        "M - Multivariate Analysis\n",
        " ]\n",
        "\n",
        "\n",
        "\n"
      ],
      "metadata": {
        "id": "ZrxVaUj-hHfC"
      }
    },
    {
      "cell_type": "markdown",
      "source": [
        "# ***Let's Begin !***"
      ],
      "metadata": {
        "id": "O_i_v8NEhb9l"
      }
    },
    {
      "cell_type": "markdown",
      "source": [
        "## ***1. Know Your Data***"
      ],
      "metadata": {
        "id": "HhfV-JJviCcP"
      }
    },
    {
      "cell_type": "markdown",
      "source": [
        "### Import Libraries"
      ],
      "metadata": {
        "id": "Y3lxredqlCYt"
      }
    },
    {
      "cell_type": "code",
      "source": [
        "# Importing important libraries for analysis\n",
        "\n",
        "import pandas as pd\n",
        "import numpy as np\n",
        "import matplotlib.pyplot as plt\n",
        "import seaborn as sns\n"
      ],
      "metadata": {
        "id": "M8Vqi-pPk-HR"
      },
      "execution_count": null,
      "outputs": []
    },
    {
      "cell_type": "markdown",
      "source": [
        "### Dataset Loading"
      ],
      "metadata": {
        "id": "3RnN4peoiCZX"
      }
    },
    {
      "cell_type": "code",
      "source": [
        "#Mouting dataset to access the file\n",
        "\n",
        "from google.colab import drive\n",
        "drive.mount ('/content/drive')"
      ],
      "metadata": {
        "id": "gqRLLQFb1kYx"
      },
      "execution_count": null,
      "outputs": []
    },
    {
      "cell_type": "code",
      "source": [
        "# Load Dataset\n",
        "#importing data\n",
        "\n",
        "hotel_df = pd.read_csv(\"/content/Hotel Bookings Analysis.csv\")"
      ],
      "metadata": {
        "id": "x_dsYYKA1ph5"
      },
      "execution_count": null,
      "outputs": []
    },
    {
      "cell_type": "markdown",
      "source": [
        "### Dataset First View"
      ],
      "metadata": {
        "id": "x71ZqKXriCWQ"
      }
    },
    {
      "cell_type": "code",
      "source": [
        "# printing head of dataset which will result top 5 rows\n",
        "hotel_df.head()"
      ],
      "metadata": {
        "id": "kNYXqq1E18DC"
      },
      "execution_count": null,
      "outputs": []
    },
    {
      "cell_type": "code",
      "source": [
        "# printing tail of dataset which will result last 5 rows\n",
        "hotel_df.tail()"
      ],
      "metadata": {
        "id": "zwmcGnMW18Gc"
      },
      "execution_count": null,
      "outputs": []
    },
    {
      "cell_type": "markdown",
      "source": [
        "### Dataset Rows & Columns count"
      ],
      "metadata": {
        "id": "7hBIi_osiCS2"
      }
    },
    {
      "cell_type": "code",
      "source": [
        "#Verifying the shape of dataset\n",
        "hotel_df.shape"
      ],
      "metadata": {
        "id": "4CkvbW_SlZ_R"
      },
      "execution_count": null,
      "outputs": []
    },
    {
      "cell_type": "markdown",
      "source": [
        "Dataset have 119390 rows and 32 columns in total."
      ],
      "metadata": {
        "id": "20MrTE-v2pb-"
      }
    },
    {
      "cell_type": "markdown",
      "source": [
        "### Dataset Information"
      ],
      "metadata": {
        "id": "JlHwYmJAmNHm"
      }
    },
    {
      "cell_type": "code",
      "source": [
        "hotel_df.info()"
      ],
      "metadata": {
        "id": "e9hRXRi6meOf"
      },
      "execution_count": null,
      "outputs": []
    },
    {
      "cell_type": "markdown",
      "source": [
        "#### Duplicate Values"
      ],
      "metadata": {
        "id": "35m5QtbWiB9F"
      }
    },
    {
      "cell_type": "code",
      "source": [
        "#Counting sum of duplicate value\n",
        "hotel_df.duplicated().sum()"
      ],
      "metadata": {
        "id": "6zeKf1oxviF2"
      },
      "execution_count": null,
      "outputs": []
    },
    {
      "cell_type": "code",
      "source": [
        "#Dropping duplicate values in dataset\n",
        "hotel_df.drop_duplicates(inplace=True)"
      ],
      "metadata": {
        "id": "4lWBJhqevzMK"
      },
      "execution_count": null,
      "outputs": []
    },
    {
      "cell_type": "markdown",
      "source": [
        "#### Missing Values/Null Values"
      ],
      "metadata": {
        "id": "PoPl-ycgm1ru"
      }
    },
    {
      "cell_type": "code",
      "source": [
        "# Missing Values/Null Values Count\n",
        "hotel_df.isnull().sum().sort_values(ascending=False)"
      ],
      "metadata": {
        "id": "GgHWkxvamxVg"
      },
      "execution_count": null,
      "outputs": []
    },
    {
      "cell_type": "code",
      "source": [
        "# Visualizing the missing values\n",
        "plt.figure(figsize=(18,8))\n",
        "colours = ['#34495E', 'seagreen']\n",
        "sns.heatmap(hotel_df.isnull(), cmap=sns.color_palette(colours))"
      ],
      "metadata": {
        "id": "3q5wnI3om9sJ"
      },
      "execution_count": null,
      "outputs": []
    },
    {
      "cell_type": "markdown",
      "source": [
        "### What did you know about your dataset?"
      ],
      "metadata": {
        "id": "H0kj-8xxnORC"
      }
    },
    {
      "cell_type": "markdown",
      "source": [
        "In this dataset, there are not too many columns with null(NaN) values, as we can see that children column has only 4 null values And country, agent and company columns also have maximum null values.\n",
        "\n",
        "Above Heatmap show the visualization of our data wherein agent and Company columns highlights are more because it has more missing data in it."
      ],
      "metadata": {
        "id": "gfoNAAC-nUe_"
      }
    },
    {
      "cell_type": "markdown",
      "source": [
        "## ***2. Understanding Your Variables***"
      ],
      "metadata": {
        "id": "nA9Y7ga8ng1Z"
      }
    },
    {
      "cell_type": "code",
      "source": [
        "# Dataset Columns\n",
        "hotel_df.columns"
      ],
      "metadata": {
        "id": "j7xfkqrt5Ag5"
      },
      "execution_count": null,
      "outputs": []
    },
    {
      "cell_type": "code",
      "source": [
        "# Dataset Describe\n",
        "hotel_df.describe()"
      ],
      "metadata": {
        "id": "DnOaZdaE5Q5t"
      },
      "execution_count": null,
      "outputs": []
    },
    {
      "cell_type": "markdown",
      "source": [
        "### Variables Description"
      ],
      "metadata": {
        "id": "PBTbrJXOngz2"
      }
    },
    {
      "cell_type": "markdown",
      "source": [
        "Here is information on what these columns represent.\n",
        "\n",
        "1.hotel : H1 = Resort Hotel , H2 = City Hotel.\n",
        "\n",
        "2.is_canceled : If the booking was canceled(1) or not(0).\n",
        "\n",
        "3.lead_time : Number of the days that elapsed between the entering date of the booking into the PMS and arrival date.\n",
        "\n",
        "4.arrival_date_year : Year of arrival date.\n",
        "\n",
        "5.arrival_date_month : Month of arrival date.\n",
        "\n",
        "6.arrival_date_week_number : Week number of arrival date.\n",
        "\n",
        "7.arrival_date_day_of_month : Day of arrival date.\n",
        "\n",
        "8.stays_in_weekend_nights : Number of Weekend nights(Saturday or Sunday) the guest stayed or booked to stay at the hotel.\n",
        "\n",
        "9.stays_in_week_nights : Number of Week nights(Monday to Friday) the guest stayed or booked to stay at the hotel.\n",
        "\n",
        "10.adults : Number of adults.\n",
        "\n",
        "11.children : Number of childrens.\n",
        "\n",
        "12.babies : Number of babies.\n",
        "\n",
        "13.meal : Kind of meal opted for.\n",
        "\n",
        "14.country : Country code.\n",
        "\n",
        "15.market_segment : Which segement the customer belongs to.\n",
        "\n",
        "16.distribution_channel : How the customer accesed the stay corporate booking/Direct/TA.TO.\n",
        "\n",
        "17.is_repeated_guest : Guest comming for first time or not.\n",
        "\n",
        "18.previous_cancellations : Was their previous cancellations before.\n",
        "\n",
        "19.previous_bookings_not_canceled : Count of previous booking.\n",
        "\n",
        "20.reserved_room_type : Type of room reserved.\n",
        "\n",
        "21.assigned_room_type : Type of room assigned.\n",
        "\n",
        "22.booking_changes : Count of booking made changes.\n",
        "\n",
        "23.deposit_type : Deposit type.\n",
        "\n",
        "24.agent : Booked through agent.\n",
        "\n",
        "25.company : Type of guest's company.\n",
        "\n",
        "26.days_in_waiting_list : Number of Days in waiting list.\n",
        "\n",
        "27.customer_type : Type of customer.\n",
        "\n",
        "28.adr : Average daily rate.\n",
        "\n",
        "29.required_car_parking_spaces : If car parking is required.\n",
        "\n",
        "30.total_of_special_requests : Number of additional special requirments.\n",
        "\n",
        "31.reservation_status : Reservation of status.\n",
        "\n",
        "32.reservation_status_date : Date of the specific status."
      ],
      "metadata": {
        "id": "aJV4KIxSnxay"
      }
    },
    {
      "cell_type": "markdown",
      "source": [
        "### Check Unique Values for each variable."
      ],
      "metadata": {
        "id": "u3PMJOP6ngxN"
      }
    },
    {
      "cell_type": "code",
      "source": [
        "# Check Unique Values for each variable.\n",
        "hotel_df['hotel'].unique()\n",
        "\n",
        "hotel_df['is_canceled'].unique()\n"
      ],
      "metadata": {
        "id": "zms12Yq5n-jE"
      },
      "execution_count": null,
      "outputs": []
    },
    {
      "cell_type": "markdown",
      "source": [
        "## 3. ***Data Wrangling***"
      ],
      "metadata": {
        "id": "dauF4eBmngu3"
      }
    },
    {
      "cell_type": "markdown",
      "source": [
        "### Data Wrangling Code"
      ],
      "metadata": {
        "id": "bKJF3rekwFvQ"
      }
    },
    {
      "cell_type": "code",
      "source": [
        "# replacing null values in childern column with zero\n",
        "hotel_df.fillna({'children':0},inplace=True)"
      ],
      "metadata": {
        "id": "wk-9a2fpoLcV"
      },
      "execution_count": null,
      "outputs": []
    },
    {
      "cell_type": "code",
      "source": [
        "# replacing null country with unknown\n",
        "hotel_df.fillna({'country':'unknown'},inplace=True)"
      ],
      "metadata": {
        "id": "Hisoi3F1wqhD"
      },
      "execution_count": null,
      "outputs": []
    },
    {
      "cell_type": "markdown",
      "source": [
        "In this dataset, we can see that childern cloumn has only 4 null values which we replace with zero. and country cloumn seems to be important hence we cannot dropped that. Will futher drop the cloumn copmany and agent to avoid null values."
      ],
      "metadata": {
        "id": "VkgBXG8Hyw6x"
      }
    },
    {
      "cell_type": "code",
      "source": [
        "#Checking again with null values\n",
        "hotel_df.isnull().sum()"
      ],
      "metadata": {
        "id": "XB_fBFDKx2-5"
      },
      "execution_count": null,
      "outputs": []
    },
    {
      "cell_type": "code",
      "source": [
        "#dropping the cloumn company and agent.\n",
        "hotel_df.drop(['company','agent'], inplace = True , axis = 1)"
      ],
      "metadata": {
        "id": "t2zncX2kzRcm"
      },
      "execution_count": null,
      "outputs": []
    },
    {
      "cell_type": "code",
      "source": [
        "#Checking how many booking are cancelled and how many are not\n",
        "hotel_df['is_canceled'].value_counts()"
      ],
      "metadata": {
        "id": "WedPxTwRzziw"
      },
      "execution_count": null,
      "outputs": []
    },
    {
      "cell_type": "markdown",
      "source": [
        "There is a column on 1st index whose name is is_cancelled which has only 2 values 0 meaning the booking is not cancelled and 1 meaning the booking is cancelled."
      ],
      "metadata": {
        "id": "Lt4ue1NZ0k4E"
      }
    },
    {
      "cell_type": "markdown",
      "source": [
        "### What all manipulations have you done and insights you found?"
      ],
      "metadata": {
        "id": "MSa1f5Uengrz"
      }
    },
    {
      "cell_type": "markdown",
      "source": [
        "As we can see 63371 bookings has been canceled ,so will not focus on those. we will only analyse those who has not canceled."
      ],
      "metadata": {
        "id": "LbyXE7I1olp8"
      }
    },
    {
      "cell_type": "markdown",
      "source": [
        "## ***4. Data Vizualization, Storytelling & Experimenting with charts : Understand the relationships between variables***"
      ],
      "metadata": {
        "id": "GF8Ens_Soomf"
      }
    },
    {
      "cell_type": "markdown",
      "source": [
        "#### Chart - 1"
      ],
      "metadata": {
        "id": "0wOQAZs5pc--"
      }
    },
    {
      "cell_type": "code",
      "source": [
        "# Chart - 1 visualization code\n",
        "#Showing cancelled and not cancelled bookings through pie chart\n",
        "hotel_df['is_canceled'].value_counts().rename({0:'not cancelled', 1:'cancelled'}).plot.pie(explode=[0.05,0.05],autopct= '%1.1f%%', figsize=(10,8), shadow=True, fontsize= 13)\n",
        "plt.title('who all canceled their bookings' , fontsize= 14)\n",
        "plt.xlabel('')\n",
        "plt.ylabel('')\n",
        "plt.show()"
      ],
      "metadata": {
        "id": "7v_ESjsspbW7"
      },
      "execution_count": null,
      "outputs": []
    },
    {
      "cell_type": "markdown",
      "source": [
        "##### 1. Why did you pick the specific chart?"
      ],
      "metadata": {
        "id": "K5QZ13OEpz2H"
      }
    },
    {
      "cell_type": "markdown",
      "source": [
        "**1.Why did you choose this specific chart?**\n",
        "\n",
        "As we wrap up the data cleaning process, we’ll focus on rows where bookings are not canceled, and the country information is available. I chose a pie chart because it visually highlights the proportion of canceled versus non-canceled bookings, making it easy to compare percentages."
      ],
      "metadata": {
        "id": "XESiWehPqBRc"
      }
    },
    {
      "cell_type": "markdown",
      "source": [
        "##### 2. What is/are the insight(s) found from the chart?"
      ],
      "metadata": {
        "id": "lQ7QKXXCp7Bj"
      }
    },
    {
      "cell_type": "markdown",
      "source": [
        "The chart reveals that approximately 73% of bookings were not canceled, while 28% were canceled."
      ],
      "metadata": {
        "id": "C_j1G7yiqdRP"
      }
    },
    {
      "cell_type": "markdown",
      "source": [
        "##### 3. Will the gained insights help creating a positive business impact?\n",
        "Are there any insights that lead to negative growth? Justify with specific reason."
      ],
      "metadata": {
        "id": "448CDAPjqfQr"
      }
    },
    {
      "cell_type": "markdown",
      "source": [
        "With 28% of bookings being canceled, the hotel could reduce this by implementing strategies like stricter cancellation policies, offering discounts for confirmed bookings, or sending timely reminders to guests to encourage them to retain their reservations."
      ],
      "metadata": {
        "id": "3cspy4FjqxJW"
      }
    },
    {
      "cell_type": "markdown",
      "source": [
        "#### Chart - 2"
      ],
      "metadata": {
        "id": "KSlN3yHqYklG"
      }
    },
    {
      "cell_type": "code",
      "source": [
        "#We are goining to use parent dataframe for this\n",
        "df_hotel_by_year = hotel_df[['arrival_date_year', 'hotel']].value_counts().groupby('arrival_date_year').sum()"
      ],
      "metadata": {
        "id": "R4YgtaqtYklH"
      },
      "execution_count": null,
      "outputs": []
    },
    {
      "cell_type": "code",
      "source": [
        "# Chart - 2 visualization code\n",
        "plt.rcParams['figure.figsize']= (8,6)\n",
        "df_hotel_by_year.plot(kind = 'bar' ,color = ['green','blue','orange'], fontsize= 12)\n",
        "plt.title('Year wise booking' , fontsize= 12)\n",
        "plt.xlabel('Arrival Date',fontsize = 12)\n",
        "plt.ylabel('Count of arrival', fontsize = 12)\n",
        "plt.show()"
      ],
      "metadata": {
        "id": "qiMaze9Y8zKA"
      },
      "execution_count": null,
      "outputs": []
    },
    {
      "cell_type": "markdown",
      "source": [
        "##### 1. Why did you pick the specific chart?"
      ],
      "metadata": {
        "id": "t6dVpIINYklI"
      }
    },
    {
      "cell_type": "markdown",
      "source": [
        "Given the data spans three consecutive years (2015, 2016, and 2017), I wanted to analyze the distribution of bookings across these years. A bar chart was chosen as it effectively compares the total number of bookings for each year, making trends easy to spot."
      ],
      "metadata": {
        "id": "5aaW0BYyYklI"
      }
    },
    {
      "cell_type": "markdown",
      "source": [
        "##### 2. What is/are the insight(s) found from the chart?"
      ],
      "metadata": {
        "id": "ijmpgYnKYklI"
      }
    },
    {
      "cell_type": "markdown",
      "source": [
        "The bar chart shows that the highest number of arrivals occurred in 2016, which was approximately 2.5 times higher than in 2015. However, there was a significant decline in 2017 compared to the previous year.\n",
        "\n"
      ],
      "metadata": {
        "id": "PSx9atu2YklI"
      }
    },
    {
      "cell_type": "markdown",
      "source": [
        "##### 3. Will the gained insights help creating a positive business impact?\n",
        "Are there any insights that lead to negative growth? Justify with specific reason."
      ],
      "metadata": {
        "id": "-JiQyfWJYklI"
      }
    },
    {
      "cell_type": "markdown",
      "source": [
        "The steep decline in bookings observed in 2017 raises a red flag for management. Understanding the factors behind this drop could help the hotel address potential issues. For example, analyzing customer feedback, pricing, and market trends could lead to actionable strategies to regain growth and maintain customer engagement."
      ],
      "metadata": {
        "id": "BcBbebzrYklV"
      }
    },
    {
      "cell_type": "markdown",
      "source": [
        "#### Chart - 3"
      ],
      "metadata": {
        "id": "EM7whBJCYoAo"
      }
    },
    {
      "cell_type": "code",
      "source": [
        "# Chart - 3 visualization code\n",
        "#plotting the arrival count for per year 2015,2016,2017 in order\n",
        "plt.rcParams['figure.figsize']= (10,5)\n",
        "sns.countplot(data = hotel_df , x= 'arrival_date_year' , hue= 'hotel')\n",
        "plt.title('Count of arrival per year for each hotel' , fontsize= 12)\n",
        "plt.xlabel('Arrival Date',fontsize = 12)\n",
        "plt.ylabel('Count of arrival', fontsize = 12)\n",
        "plt.show()"
      ],
      "metadata": {
        "id": "t6GMdE67YoAp"
      },
      "execution_count": null,
      "outputs": []
    },
    {
      "cell_type": "markdown",
      "source": [
        "##### 1. Why did you pick the specific chart?"
      ],
      "metadata": {
        "id": "fge-S5ZAYoAp"
      }
    },
    {
      "cell_type": "markdown",
      "source": [
        "I chose this count plot to visualize the overall data and compare the number of arrivals per year for both hotels. The count plot is effective for showing categorical data distributions and highlighting differences between the two hotels over the years.\n",
        "\n"
      ],
      "metadata": {
        "id": "5dBItgRVYoAp"
      }
    },
    {
      "cell_type": "markdown",
      "source": [
        "##### 2. What is/are the insight(s) found from the chart?"
      ],
      "metadata": {
        "id": "85gYPyotYoAp"
      }
    },
    {
      "cell_type": "markdown",
      "source": [
        "The chart shows the annual count of arrivals for each hotel. We can observe variations in the number of arrivals per year, helping us identify trends or shifts in customer preferences between the two hotels."
      ],
      "metadata": {
        "id": "4jstXR6OYoAp"
      }
    },
    {
      "cell_type": "markdown",
      "source": [
        "##### 3. Will the gained insights help creating a positive business impact?\n",
        "Are there any insights that lead to negative growth? Justify with specific reason."
      ],
      "metadata": {
        "id": "RoGjAbkUYoAp"
      }
    },
    {
      "cell_type": "markdown",
      "source": [
        "Yes, these insights can guide business decisions. For instance, if one hotel consistently outperforms the other, management can investigate the reasons and replicate successful strategies across both properties. Additionally, understanding yearly fluctuations can help in planning marketing campaigns or adjusting pricing strategies to attract more guests during low-performing years."
      ],
      "metadata": {
        "id": "zfJ8IqMcYoAp"
      }
    },
    {
      "cell_type": "code",
      "source": [
        "#Plotting arrival count over months\n",
        "plt.rcParams['figure.figsize']= (10,5)\n",
        "sns.countplot(data = hotel_df , x= 'arrival_date_month' , hue= 'hotel' , order= ['January','February','March','April','June','July','August','September','October','November','December'])\n",
        "plt.title('Count of arrival per month' , fontsize= 12)\n",
        "plt.xlabel('Arrival Month',fontsize = 12)\n",
        "plt.ylabel('Count of arrival', fontsize = 12)\n",
        "plt.show()"
      ],
      "metadata": {
        "id": "pcaFkEbZvF_U"
      },
      "execution_count": null,
      "outputs": []
    },
    {
      "cell_type": "code",
      "source": [
        "#Plotting arrival count over days\n",
        "plt.rcParams['figure.figsize']= (20,5)\n",
        "sns.countplot(data = hotel_df , x= 'arrival_date_day_of_month' , hue= 'hotel')\n",
        "plt.title('Count of arrival per day for each month' , fontsize= 12)\n",
        "plt.xlabel('Arrival date',fontsize = 12)\n",
        "plt.ylabel('Count of arrival', fontsize = 12)\n",
        "plt.show()"
      ],
      "metadata": {
        "id": "7hkQTy3J1xPt"
      },
      "execution_count": null,
      "outputs": []
    },
    {
      "cell_type": "markdown",
      "source": [
        "#### Chart - 4"
      ],
      "metadata": {
        "id": "4Of9eVA-YrdM"
      }
    },
    {
      "cell_type": "code",
      "source": [
        "# Chart - 4 visualization code\n",
        "#Plotting stays on weekend nights\n",
        "plt.rcParams['figure.figsize']= (20,5)\n",
        "sns.countplot(data = hotel_df , x= 'stays_in_weekend_nights')\n",
        "plt.title('Count of stays on weekend nights' , fontsize= 12)\n",
        "plt.xlabel('Stays in weekend night',fontsize = 12)\n",
        "plt.ylabel('Count', fontsize = 12)\n",
        "plt.xlim(0.5,20)\n",
        "plt.show()"
      ],
      "metadata": {
        "id": "irlUoxc8YrdO"
      },
      "execution_count": null,
      "outputs": []
    },
    {
      "cell_type": "code",
      "source": [
        "#plotting desnity of stays on weekend nights\n",
        "sns.histplot(data = hotel_df , x=hotel_df['stays_in_weekend_nights'], bins = [1,2,3,4,5,6,7])\n",
        "plt.title('Count of stays on weekend nights' , fontsize= 12)\n",
        "plt.xlabel('Stays in weekend night',fontsize = 12)\n",
        "plt.ylabel('Density of Count', fontsize = 12)\n",
        "plt.show()"
      ],
      "metadata": {
        "id": "E8jvGT_Q8kMh"
      },
      "execution_count": null,
      "outputs": []
    },
    {
      "cell_type": "code",
      "source": [
        "#plotting countplot for week nights\n",
        "plt.rcParams['figure.figsize']= (20,5)\n",
        "sns.countplot(data = hotel_df , x= 'stays_in_week_nights')\n",
        "plt.title('Count of stays on weekend nights' , fontsize= 12)\n",
        "plt.xlabel('Stays in weekend night',fontsize = 12)\n",
        "plt.ylabel('Count', fontsize = 12)\n",
        "plt.show()"
      ],
      "metadata": {
        "id": "RwF6MnbS9dnJ"
      },
      "execution_count": null,
      "outputs": []
    },
    {
      "cell_type": "markdown",
      "source": [
        "##### 1. Why did you pick the specific chart?"
      ],
      "metadata": {
        "id": "iky9q4vBYrdO"
      }
    },
    {
      "cell_type": "markdown",
      "source": [
        "The countplot is used to visualize the frequency of stays for specific numbers of weekend or weeknights, while the histplot shows the distribution of stays across defined bins, making it easier to identify patterns."
      ],
      "metadata": {
        "id": "aJRCwT6DYrdO"
      }
    },
    {
      "cell_type": "markdown",
      "source": [
        "##### 2. What is/are the insight(s) found from the chart?"
      ],
      "metadata": {
        "id": "F6T5p64dYrdO"
      }
    },
    {
      "cell_type": "markdown",
      "source": [
        "The countplots highlight how many guests stayed for different durations on weekend and weeknights. The histplot shows that shorter stays (e.g., 1-2 nights) are more common than longer ones."
      ],
      "metadata": {
        "id": "Xx8WAJvtYrdO"
      }
    },
    {
      "cell_type": "markdown",
      "source": [
        "##### 3. Will the gained insights help creating a positive business impact?\n",
        "Are there any insights that lead to negative growth? Justify with specific reason."
      ],
      "metadata": {
        "id": "y-Ehk30pYrdP"
      }
    },
    {
      "cell_type": "markdown",
      "source": [
        "Yes, these insights help identify guest preferences, enabling the hotel to adjust pricing, plan promotions, and allocate resources more effectively for short versus long stays."
      ],
      "metadata": {
        "id": "jLNxxz7MYrdP"
      }
    },
    {
      "cell_type": "markdown",
      "source": [
        "#### Chart - 5"
      ],
      "metadata": {
        "id": "bamQiAODYuh1"
      }
    },
    {
      "cell_type": "code",
      "source": [
        "# Chart - 5 visualization code\n",
        "#identifying adults counts from the data\n",
        "df_adults = hotel_df[['hotel', 'adults']][hotel_df['adults']>0].groupby(['hotel']).count()\n",
        "df_adults"
      ],
      "metadata": {
        "id": "TIJwrbroYuh3"
      },
      "execution_count": null,
      "outputs": []
    },
    {
      "cell_type": "code",
      "source": [
        "#Visualization for adults\n",
        "plt.rcParams['figure.figsize']= (20,5)\n",
        "sns.countplot(data = hotel_df , x= 'adults', hue ='hotel').set_title('Count of adults')\n",
        "plt.show()"
      ],
      "metadata": {
        "id": "0QtoOEyaAImJ"
      },
      "execution_count": null,
      "outputs": []
    },
    {
      "cell_type": "markdown",
      "source": [
        "##### 1. Why did you pick the specific chart?"
      ],
      "metadata": {
        "id": "QHF8YVU7Yuh3"
      }
    },
    {
      "cell_type": "markdown",
      "source": [
        "The chart was chosen to analyze the number of adults per booking across hotels, which helps in identifying the guest composition for better hotel categorization."
      ],
      "metadata": {
        "id": "dcxuIMRPYuh3"
      }
    },
    {
      "cell_type": "markdown",
      "source": [
        "##### 2. What is/are the insight(s) found from the chart?"
      ],
      "metadata": {
        "id": "GwzvFGzlYuh3"
      }
    },
    {
      "cell_type": "markdown",
      "source": [
        "Most guests check in as a pair, with both hotels showing a peak at 2 adults per booking."
      ],
      "metadata": {
        "id": "uyqkiB8YYuh3"
      }
    },
    {
      "cell_type": "markdown",
      "source": [
        "##### 3. Will the gained insights help creating a positive business impact?\n",
        "Are there any insights that lead to negative growth? Justify with specific reason."
      ],
      "metadata": {
        "id": "qYpmQ266Yuh3"
      }
    },
    {
      "cell_type": "markdown",
      "source": [
        "Yes, this suggests that the City Resort can be positioned as a \"Duo/Couple-Friendly Hotel,\" catering to pairs regardless of their relationship type."
      ],
      "metadata": {
        "id": "_WtzZ_hCYuh4"
      }
    },
    {
      "cell_type": "markdown",
      "source": [
        "#### Chart - 6"
      ],
      "metadata": {
        "id": "OH-pJp9IphqM"
      }
    },
    {
      "cell_type": "code",
      "source": [
        "# Chart - 6 visualization code\n",
        "#identifying childerns counts from the data\n",
        "df_children = hotel_df[['hotel', 'children']][hotel_df['children']>0].groupby(['hotel']).count()\n",
        "df_children"
      ],
      "metadata": {
        "id": "kuRf4wtuphqN"
      },
      "execution_count": null,
      "outputs": []
    },
    {
      "cell_type": "code",
      "source": [
        "plt.rcParams['figure.figsize']= (20,5)\n",
        "sns.countplot(data = hotel_df , x= 'children', hue ='hotel').set_title('Count of children')\n",
        "plt.show()"
      ],
      "metadata": {
        "id": "Xx7EgfPgB0ez"
      },
      "execution_count": null,
      "outputs": []
    },
    {
      "cell_type": "markdown",
      "source": [
        "##### 1. Why did you pick the specific chart?"
      ],
      "metadata": {
        "id": "bbFf2-_FphqN"
      }
    },
    {
      "cell_type": "markdown",
      "source": [
        "The chart helps show how many children stay in each hotel, making it easier to categorize the hotels."
      ],
      "metadata": {
        "id": "loh7H2nzphqN"
      }
    },
    {
      "cell_type": "markdown",
      "source": [
        "##### 2. What is/are the insight(s) found from the chart?"
      ],
      "metadata": {
        "id": "_ouA3fa0phqN"
      }
    },
    {
      "cell_type": "markdown",
      "source": [
        "More families with children prefer staying at the City Hotel."
      ],
      "metadata": {
        "id": "VECbqPI7phqN"
      }
    },
    {
      "cell_type": "markdown",
      "source": [
        "##### 3. Will the gained insights help creating a positive business impact?\n",
        "Are there any insights that lead to negative growth? Justify with specific reason."
      ],
      "metadata": {
        "id": "Seke61FWphqN"
      }
    },
    {
      "cell_type": "markdown",
      "source": [
        "Yes, the City Hotel can be promoted as a \"Children-Friendly Hotel\" to attract more families."
      ],
      "metadata": {
        "id": "DW4_bGpfphqN"
      }
    },
    {
      "cell_type": "code",
      "source": [
        "#identifying babies counts from the data\n",
        "plt.rcParams['figure.figsize']= (20,5)\n",
        "sns.countplot(data = hotel_df , x= 'babies', hue ='hotel').set_title('Count of babies')\n",
        "plt.show()"
      ],
      "metadata": {
        "id": "AY77QBCrCwl6"
      },
      "execution_count": null,
      "outputs": []
    },
    {
      "cell_type": "markdown",
      "source": [
        "1.Why did you pick the specific chart?\n",
        "The chart helps show how many guests bring babies to each hotel, assisting in categorizing the hotels.\n",
        "\n",
        "2.What is/are the insight(s) found from the chart?\n",
        "There’s no strong preference for one hotel over another, but slightly more guests with babies choose the Resort Hotel.\n",
        "\n",
        "3.Will the gained insights help create a positive business impact?\n",
        "Yes, the Resort Hotel can be labeled as a \"Babies-Friendly Hotel\" to attract more families with infants."
      ],
      "metadata": {
        "id": "-H4KuRgGDKY-"
      }
    },
    {
      "cell_type": "markdown",
      "source": [
        "#### Chart - 7"
      ],
      "metadata": {
        "id": "PIIx-8_IphqN"
      }
    },
    {
      "cell_type": "code",
      "source": [
        "# Chart - 7 visualization code\n",
        "#Plotting countplot for deposite type\n",
        "plt.rcParams['figure.figsize']= (5,5)\n",
        "sns.countplot(data = hotel_df , x= 'deposit_type')\n",
        "plt.title('Types of deposits' , fontsize= 12)\n",
        "plt.xlabel('Types',fontsize = 12)\n",
        "plt.ylabel('Count', fontsize = 12)\n",
        "plt.show()"
      ],
      "metadata": {
        "id": "lqAIGUfyphqO"
      },
      "execution_count": null,
      "outputs": []
    },
    {
      "cell_type": "code",
      "source": [
        "#lets also check the 'No deposit' booking by hotels\n",
        "hotel_df[['deposit_type', 'hotel']][hotel_df['deposit_type']=='No Deposit'].groupby('hotel').count()\n"
      ],
      "metadata": {
        "id": "hfB3WijyFUN1"
      },
      "execution_count": null,
      "outputs": []
    },
    {
      "cell_type": "markdown",
      "source": [
        "##### 1. Why did you pick the specific chart?"
      ],
      "metadata": {
        "id": "t27r6nlMphqO"
      }
    },
    {
      "cell_type": "markdown",
      "source": [
        "I chose this count plot to examine the deposit type, and it shows that the percentage of 'No Deposit' bookings is higher for the Resort Hotel compared to the City Hotel."
      ],
      "metadata": {
        "id": "iv6ro40sphqO"
      }
    },
    {
      "cell_type": "markdown",
      "source": [
        "##### 2. What is/are the insight(s) found from the chart?"
      ],
      "metadata": {
        "id": "r2jJGEOYphqO"
      }
    },
    {
      "cell_type": "markdown",
      "source": [
        "Most guests prefer booking with no deposit, while fewer opt for Non-refundable or Refundable deposits. It's interesting that some guests choose Non-refundable deposits despite the risk of not being able to get their deposit back in case of cancellation—are they very certain about their travel plans?"
      ],
      "metadata": {
        "id": "Po6ZPi4hphqO"
      }
    },
    {
      "cell_type": "markdown",
      "source": [
        "##### 3. Will the gained insights help creating a positive business impact?\n",
        "Are there any insights that lead to negative growth? Justify with specific reason."
      ],
      "metadata": {
        "id": "b0JNsNcRphqO"
      }
    },
    {
      "cell_type": "markdown",
      "source": [
        "Since customers generally avoid paying a pre-deposit, hotels should encourage advance deposits. This would help recognize revenue sooner and reduce the risk of cancellations."
      ],
      "metadata": {
        "id": "xvSq8iUTphqO"
      }
    },
    {
      "cell_type": "markdown",
      "source": [
        "#### Chart - 8"
      ],
      "metadata": {
        "id": "BZR9WyysphqO"
      }
    },
    {
      "cell_type": "code",
      "source": [
        "# Chart - 8 visualization code\n",
        "#Visualisation for repeated guests\n",
        "plt.rcParams['figure.figsize']= (5,5)\n",
        "sns.countplot(data = hotel_df , x= 'is_repeated_guest')\n",
        "plt.title('Repeated guest' , fontsize= 8)\n",
        "plt.show()"
      ],
      "metadata": {
        "id": "TdPTWpAVphqO"
      },
      "execution_count": null,
      "outputs": []
    },
    {
      "cell_type": "code",
      "source": [
        "#lets also check the repeated guest in hotels\n",
        "hotel_df[['is_repeated_guest', 'hotel']][hotel_df['is_repeated_guest']== 1].groupby('hotel').count()\n"
      ],
      "metadata": {
        "id": "tSDjo-g1HJ6U"
      },
      "execution_count": null,
      "outputs": []
    },
    {
      "cell_type": "markdown",
      "source": [
        "##### 1. Why did you pick the specific chart?"
      ],
      "metadata": {
        "id": "jj7wYXLtphqO"
      }
    },
    {
      "cell_type": "markdown",
      "source": [
        "I picked the count plot to analyze the ratio of repeated versus non-repeated guests."
      ],
      "metadata": {
        "id": "Ob8u6rCTphqO"
      }
    },
    {
      "cell_type": "markdown",
      "source": [
        "##### 2. What is/are the insight(s) found from the chart?"
      ],
      "metadata": {
        "id": "eZrbJ2SmphqO"
      }
    },
    {
      "cell_type": "markdown",
      "source": [
        "The chart shows that most guests are first-time visitors, with very few repeated guests."
      ],
      "metadata": {
        "id": "mZtgC_hjphqO"
      }
    },
    {
      "cell_type": "markdown",
      "source": [
        "##### 3. Will the gained insights help creating a positive business impact?\n",
        "Are there any insights that lead to negative growth? Justify with specific reason."
      ],
      "metadata": {
        "id": "rFu4xreNphqO"
      }
    },
    {
      "cell_type": "markdown",
      "source": [
        "This insight may point to the need for improved customer retention strategies. The management team can focus on enhancing service and marketing tactics to encourage repeat visits, which could boost long-term growth."
      ],
      "metadata": {
        "id": "ey_0qi68phqO"
      }
    },
    {
      "cell_type": "markdown",
      "source": [
        "#### Chart - 9"
      ],
      "metadata": {
        "id": "YJ55k-q6phqO"
      }
    },
    {
      "cell_type": "code",
      "source": [
        "# Chart - 9 visualization code\n",
        "#Calculate total stay duration of guests including stays in weekend and week nights\n",
        "hotel_df['total_night_stays']= hotel_df['stays_in_weekend_nights'] + hotel_df['stays_in_week_nights']\n",
        "\n",
        "#Getting back to our seaborn plot\n",
        "sns.countplot(x = hotel_df ['total_night_stays'])\n",
        "plt.xlim(0.5,20)\n",
        "plt.title('Night spend by guest(Till 20 nights)' , fontsize= 8)\n",
        "plt.xlabel('No of nights',fontsize = 12)\n",
        "plt.ylabel('Count', fontsize = 12)\n",
        "plt.show()"
      ],
      "metadata": {
        "id": "B2aS4O1ophqO"
      },
      "execution_count": null,
      "outputs": []
    },
    {
      "cell_type": "markdown",
      "source": [
        "##### 1. Why did you pick the specific chart?"
      ],
      "metadata": {
        "id": "gCFgpxoyphqP"
      }
    },
    {
      "cell_type": "markdown",
      "source": [
        "I chose this chart to analyze the duration of guests' stays, helping to identify the optimal stay duration overall and for each hotel."
      ],
      "metadata": {
        "id": "TVxDimi2phqP"
      }
    },
    {
      "cell_type": "markdown",
      "source": [
        "##### 2. What is/are the insight(s) found from the chart?"
      ],
      "metadata": {
        "id": "OVtJsKN_phqQ"
      }
    },
    {
      "cell_type": "markdown",
      "source": [
        "Most guests (about 80%) stayed for 1 to 5 nights, indicating a common preference for shorter stays."
      ],
      "metadata": {
        "id": "ngGi97qjphqQ"
      }
    },
    {
      "cell_type": "markdown",
      "source": [
        "##### 3. Will the gained insights help creating a positive business impact?\n",
        "Are there any insights that lead to negative growth? Justify with specific reason."
      ],
      "metadata": {
        "id": "lssrdh5qphqQ"
      }
    },
    {
      "cell_type": "markdown",
      "source": [
        "The hotel management team can use this insight to offer additional services or promotions that encourage guests to extend their stays, enhancing revenue and guest satisfaction."
      ],
      "metadata": {
        "id": "tBpY5ekJphqQ"
      }
    },
    {
      "cell_type": "markdown",
      "source": [
        "#### Chart - 10"
      ],
      "metadata": {
        "id": "U2RJ9gkRphqQ"
      }
    },
    {
      "cell_type": "code",
      "source": [
        "# Chart - 10 visualization code\n",
        "#Use countplot to find duration of stay for both hotel\n",
        "plt.rcParams['figure.figsize']= (10,5)\n",
        "sns.countplot(data = hotel_df , x = 'total_night_stays', hue = 'hotel')\n",
        "plt.xlim(0.5,20)\n",
        "plt.title('Hotel-wise nights spend by guests(Till 20 nights)' , fontsize= 8)\n",
        "plt.xlabel('No of nights',fontsize = 12)\n",
        "plt.ylabel('Count', fontsize = 12)\n",
        "plt.show()"
      ],
      "metadata": {
        "id": "GM7a4YP4phqQ"
      },
      "execution_count": null,
      "outputs": []
    },
    {
      "cell_type": "markdown",
      "source": [
        "##### 1. Why did you pick the specific chart?"
      ],
      "metadata": {
        "id": "1M8mcRywphqQ"
      }
    },
    {
      "cell_type": "markdown",
      "source": [
        "I picked this chart to analyze the duration of stay for each hotel and compare guest behavior at both locations."
      ],
      "metadata": {
        "id": "8agQvks0phqQ"
      }
    },
    {
      "cell_type": "markdown",
      "source": [
        "##### 2. What is/are the insight(s) found from the chart?"
      ],
      "metadata": {
        "id": "tgIPom80phqQ"
      }
    },
    {
      "cell_type": "markdown",
      "source": [
        "Most guests at City Hotel stayed for 2 or 3 days, while Resort Hotel guests preferred staying for either 1 or 7 days."
      ],
      "metadata": {
        "id": "Qp13pnNzphqQ"
      }
    },
    {
      "cell_type": "markdown",
      "source": [
        "##### 3. Will the gained insights help creating a positive business impact?\n",
        "Are there any insights that lead to negative growth? Justify with specific reason."
      ],
      "metadata": {
        "id": "JMzcOPDDphqR"
      }
    },
    {
      "cell_type": "markdown",
      "source": [
        "The insights can guide targeted strategies. However, City Hotel’s relatively shorter stays may indicate lower occupancy and revenue potential, which could lead to negative growth unless they address this with promotions or services to encourage longer stays."
      ],
      "metadata": {
        "id": "R4Ka1PC2phqR"
      }
    },
    {
      "cell_type": "markdown",
      "source": [
        "#### Chart - 11"
      ],
      "metadata": {
        "id": "x-EpHcCOp1ci"
      }
    },
    {
      "cell_type": "code",
      "source": [
        "# Chart - 11 visualization code\n",
        "#Visualiazing special request hotel-wise\n",
        "df_special_requests_hotel_wise = hotel_df[['hotel', 'total_of_special_requests']][hotel_df['total_of_special_requests']>0].groupby(['hotel']).count()\n",
        "df_special_requests_hotel_wise"
      ],
      "metadata": {
        "id": "mAQTIvtqp1cj"
      },
      "execution_count": null,
      "outputs": []
    },
    {
      "cell_type": "code",
      "source": [
        "plt.rcParams['figure.figsize']= (6,6)\n",
        "df_special_requests_hotel_wise.plot(kind= 'pie' , autopct= '%.0f%%' , fontsize= 14 , subplots = True)\n",
        "plt.title('Hotel-wise percentage of special requests')\n",
        "plt.ylabel('')\n",
        "plt.show()"
      ],
      "metadata": {
        "id": "Prn0IwdLVJpm"
      },
      "execution_count": null,
      "outputs": []
    },
    {
      "cell_type": "markdown",
      "source": [
        "##### 1. Why did you pick the specific chart?"
      ],
      "metadata": {
        "id": "X_VqEhTip1ck"
      }
    },
    {
      "cell_type": "markdown",
      "source": [
        "I chose a pie chart to show the hotel-wise distribution of special requests, as it effectively displays the percentage of requests from each hotel."
      ],
      "metadata": {
        "id": "-vsMzt_np1ck"
      }
    },
    {
      "cell_type": "markdown",
      "source": [
        "##### 2. What is/are the insight(s) found from the chart?"
      ],
      "metadata": {
        "id": "8zGJKyg5p1ck"
      }
    },
    {
      "cell_type": "markdown",
      "source": [
        "City Hotel guests made 62% of the total special requests, while Resort Hotel guests made 38%. However, since the guest ratio is similar, the insights might not be highly significant."
      ],
      "metadata": {
        "id": "ZYdMsrqVp1ck"
      }
    },
    {
      "cell_type": "markdown",
      "source": [
        "##### 3. Will the gained insights help creating a positive business impact?\n",
        "Are there any insights that lead to negative growth? Justify with specific reason."
      ],
      "metadata": {
        "id": "PVzmfK_Ep1ck"
      }
    },
    {
      "cell_type": "markdown",
      "source": [
        "The insight helps City Hotel staff anticipate more special requests, allowing them to allocate resources accordingly. This can improve service quality but doesn’t necessarily lead to negative growth unless not managed effectively."
      ],
      "metadata": {
        "id": "druuKYZpp1ck"
      }
    },
    {
      "cell_type": "markdown",
      "source": [
        "#### Chart - 12"
      ],
      "metadata": {
        "id": "n3dbpmDWp1ck"
      }
    },
    {
      "cell_type": "markdown",
      "source": [
        "Determining the price for each customer"
      ],
      "metadata": {
        "id": "Ztdpd88iWXSH"
      }
    },
    {
      "cell_type": "code",
      "source": [
        "# Chart - 12 visualization code\n",
        "# define custom function for price\n",
        "def price(a,b):\n",
        "  return a*b\n",
        "hotel_df['price'] = hotel_df.apply(lambda x1:price(x1['adr'], x1['total_night_stays']),axis =1)"
      ],
      "metadata": {
        "id": "bwevp1tKp1ck"
      },
      "execution_count": null,
      "outputs": []
    },
    {
      "cell_type": "code",
      "source": [
        "hotel_df[['price','adr','total_night_stays']].head(15)"
      ],
      "metadata": {
        "id": "Rdo_HbW6XEOf"
      },
      "execution_count": null,
      "outputs": []
    },
    {
      "cell_type": "code",
      "source": [
        "#Visualisation for revenue earns by hotels yearly\n",
        "plt.rcParams['figure.figsize']= (24,9)\n",
        "sns.lineplot(data = hotel_df , x = 'arrival_date_month', y ='price', hue = 'arrival_date_year',palette='Dark2')\n",
        "plt.title('Revenues rearned by hotels per year' , fontsize= 12)\n",
        "plt.xlabel('Nights stays',fontsize = 12)\n",
        "plt.ylabel('Price', fontsize = 12)\n",
        "plt.show()"
      ],
      "metadata": {
        "id": "BrHPmgXPXjWX"
      },
      "execution_count": null,
      "outputs": []
    },
    {
      "cell_type": "markdown",
      "source": [
        "##### 1. Why did you pick the specific chart?"
      ],
      "metadata": {
        "id": "ylSl6qgtp1ck"
      }
    },
    {
      "cell_type": "markdown",
      "source": [
        "I chose the line plot to visualize the revenue earned by hotels each year, making it easy to track trends over time."
      ],
      "metadata": {
        "id": "m2xqNkiQp1ck"
      }
    },
    {
      "cell_type": "markdown",
      "source": [
        "##### 2. What is/are the insight(s) found from the chart?"
      ],
      "metadata": {
        "id": "ZWILFDl5p1ck"
      }
    },
    {
      "cell_type": "markdown",
      "source": [
        "The revenue for 2016 and 2017 is the highest, with August being the busiest month for both hotels."
      ],
      "metadata": {
        "id": "x-lUsV2mp1ck"
      }
    },
    {
      "cell_type": "markdown",
      "source": [
        "##### 3. Will the gained insights help creating a positive business impact?\n",
        "Are there any insights that lead to negative growth? Justify with specific reason."
      ],
      "metadata": {
        "id": "M7G43BXep1ck"
      }
    },
    {
      "cell_type": "markdown",
      "source": [
        "The hotels should focus on improving revenue during all seasons, not just during peak months like August, to maintain consistent growth throughout the year."
      ],
      "metadata": {
        "id": "5wwDJXsLp1cl"
      }
    },
    {
      "cell_type": "markdown",
      "source": [
        "#### Chart - 13"
      ],
      "metadata": {
        "id": "Ag9LCva-p1cl"
      }
    },
    {
      "cell_type": "code",
      "source": [
        "# Chart - 13 visualization code\n",
        "#Visualaising type of meal preferred\n",
        "plt.figure(figsize = (20,5))\n",
        "sns.countplot(x = hotel_df['meal'])\n",
        "plt.title('Preferred meal type')\n",
        "plt.xlabel('Type of meal required in hotel')\n",
        "plt.ylabel('Count')\n",
        "plt.show()"
      ],
      "metadata": {
        "id": "EUfxeq9-p1cl"
      },
      "execution_count": null,
      "outputs": []
    },
    {
      "cell_type": "code",
      "source": [
        "hotel_df['meal'].value_counts(normalize= True)"
      ],
      "metadata": {
        "id": "bGLGXA6dZsJJ"
      },
      "execution_count": null,
      "outputs": []
    },
    {
      "cell_type": "code",
      "source": [
        "#Use pieplot for meal distribution\n",
        "hotel_df['meal'].value_counts().plot.pie(explode= (0.03,0.03,0.03,0.01,0.001), autopct= '%1.01f%%' , shadow = False , figsize= (9,10) ,fontsize = 10, labels= None)\n",
        "plt.title('% Distrubution of meal' , fontsize = 12)\n",
        "labels = hotel_df['meal'].value_counts().index.tolist()\n",
        "plt.legend(bbox_to_anchor=(0.85,1),loc='upper left' , labels = labels)\n",
        "plt.show()"
      ],
      "metadata": {
        "id": "LEJfLiDgZ8cy"
      },
      "execution_count": null,
      "outputs": []
    },
    {
      "cell_type": "markdown",
      "source": [
        "##### 1. Why did you pick the specific chart?"
      ],
      "metadata": {
        "id": "E6MkPsBcp1cl"
      }
    },
    {
      "cell_type": "markdown",
      "source": [
        "I chose the count plot to show the different types of meals provided by the hotel, and the pie chart to display the percentage distribution of each meal type.\n",
        "\n"
      ],
      "metadata": {
        "id": "V22bRsFWp1cl"
      }
    },
    {
      "cell_type": "markdown",
      "source": [
        "##### 2. What is/are the insight(s) found from the chart?"
      ],
      "metadata": {
        "id": "2cELzS2fp1cl"
      }
    },
    {
      "cell_type": "markdown",
      "source": [
        "The chart reveals that the most preferred meal type by customers is BB (Bed and Breakfast), which makes up 78.7% of the meals served."
      ],
      "metadata": {
        "id": "ozQPc2_Ip1cl"
      }
    },
    {
      "cell_type": "markdown",
      "source": [
        "##### 3. Will the gained insights help creating a positive business impact?\n",
        "Are there any insights that lead to negative growth? Justify with specific reason."
      ],
      "metadata": {
        "id": "3MPXvC8up1cl"
      }
    },
    {
      "cell_type": "markdown",
      "source": [
        "The hotel management team can focus on improving the availability of FB (Full Board) options to attract more guests who may prefer all-inclusive meal plans, potentially boosting bookings. There's no immediate negative growth observed, but expanding meal options could further increase guest satisfaction."
      ],
      "metadata": {
        "id": "GL8l1tdLp1cl"
      }
    },
    {
      "cell_type": "markdown",
      "source": [
        "#### Chart - 14 - Correlation Heatmap"
      ],
      "metadata": {
        "id": "NC_X3p0fY2L0"
      }
    },
    {
      "cell_type": "code",
      "source": [
        "# Correlation Heatmap visualization code\n",
        "#creating new datset\n",
        "new_df = hotel_df[['lead_time','arrival_date_year', 'arrival_date_week_number','arrival_date_day_of_month', 'stays_in_weekend_nights', 'stays_in_week_nights','adults','children','babies','is_repeated_guest','previous_cancellations','previous_bookings_not_canceled','booking_changes','days_in_waiting_list','adr','required_car_parking_spaces','total_of_special_requests','total_night_stays','price']]"
      ],
      "metadata": {
        "id": "xyC9zolEZNRQ"
      },
      "execution_count": null,
      "outputs": []
    },
    {
      "cell_type": "code",
      "source": [
        "plt.rcParams['figure.figsize']= (20,10)\n",
        "sns.heatmap(new_df.corr(), cmap= 'coolwarm', annot=True);"
      ],
      "metadata": {
        "id": "u7_XzhnVeUUl"
      },
      "execution_count": null,
      "outputs": []
    },
    {
      "cell_type": "markdown",
      "source": [
        "##### 1. Why did you pick the specific chart?"
      ],
      "metadata": {
        "id": "UV0SzAkaZNRQ"
      }
    },
    {
      "cell_type": "markdown",
      "source": [
        "I used a heatmap for multivariate analysis to examine the correlation between multiple variables, providing a clear view of how they are related."
      ],
      "metadata": {
        "id": "DVPuT8LYZNRQ"
      }
    },
    {
      "cell_type": "markdown",
      "source": [
        "##### 2. What is/are the insight(s) found from the chart?"
      ],
      "metadata": {
        "id": "YPEH6qLeZNRQ"
      }
    },
    {
      "cell_type": "markdown",
      "source": [
        "The chart highlights a strong correlation between total night stays and stays on weekdays, with weekday stays being more frequent than weekend stays when it comes to total night stays."
      ],
      "metadata": {
        "id": "bfSqtnDqZNRR"
      }
    },
    {
      "cell_type": "markdown",
      "source": [
        "#### Chart - 15 - Pair Plot"
      ],
      "metadata": {
        "id": "q29F0dvdveiT"
      }
    },
    {
      "cell_type": "code",
      "source": [
        "# Pair Plot visualization code\n",
        "plt.figure(figsize=(20,15))\n",
        "ax=sns.pairplot(hotel_df)\n",
        "plt.show()"
      ],
      "metadata": {
        "id": "o58-TEIhveiU"
      },
      "execution_count": null,
      "outputs": []
    },
    {
      "cell_type": "markdown",
      "source": [
        "##### 1. Why did you pick the specific chart?"
      ],
      "metadata": {
        "id": "EXh0U9oCveiU"
      }
    },
    {
      "cell_type": "markdown",
      "source": [
        "I chose the pair plot for multivariable analysis to visually explore relationships between multiple variables at once."
      ],
      "metadata": {
        "id": "eMmPjTByveiU"
      }
    },
    {
      "cell_type": "markdown",
      "source": [
        "##### 2. What is/are the insight(s) found from the chart?"
      ],
      "metadata": {
        "id": "22aHeOlLveiV"
      }
    },
    {
      "cell_type": "markdown",
      "source": [
        "The chart shows that a longer lead time does not necessarily result in cancellations. Additionally, the relationship between lead time and arrival year indicates that people consistently booked rooms in advance during 2015, 2016, and 2017."
      ],
      "metadata": {
        "id": "uPQ8RGwHveiV"
      }
    },
    {
      "cell_type": "markdown",
      "source": [
        "## **5. Solution to Business Objective**"
      ],
      "metadata": {
        "id": "JcMwzZxoAimU"
      }
    },
    {
      "cell_type": "markdown",
      "source": [
        "#### What do you suggest the client to achieve Business Objective ?\n",
        "Explain Briefly."
      ],
      "metadata": {
        "id": "8G2x9gOozGDZ"
      }
    },
    {
      "cell_type": "markdown",
      "source": [
        "To achieve the business objectives, the hotel management should focus on several key strategies. Resort hotels, with fewer bookings than city hotels, should consider offering packages and promotions to boost bookings. This could include creating attractive deals to draw in more customers and make the resort more appealing.\n",
        "\n",
        "Regarding food preferences, since BB (Bed and Breakfast) is the most popular choice, it’s crucial for the hotel to maintain its quality. At the same time, they can offer discounts on other types of meals to encourage guests to explore different options. This would not only relieve pressure on the kitchen but also provide variety to customers.\n",
        "\n",
        "The data shows that repeat bookings are low, so it’s important to find ways to increase return guests. The hotel can achieve this by offering incentives for repeat bookings, marketing tailored offers based on past guest preferences, and understanding the motivations behind those who return. By targeting this group, the hotel can turn occasional guests into loyal customers.\n",
        "\n",
        "In terms of guest composition, both city and resort hotels see many couples booking stays, so promoting group and family bookings could be a great strategy. Special discounts for family or group reservations can help maximize occupancy and revenue, as well as cater to those looking for more space or amenities suitable for larger groups.\n",
        "\n",
        "The data also shows that guests tend to stay longer at city hotels, with most staying for two or three nights, while resort guests typically stay for one or seven nights. Resort hotels can capitalize on this by offering promotions for middle-range stays, encouraging longer visits without overwhelming guests with extended durations.\n",
        "\n",
        "A key observation is that weekday bookings outnumber weekend stays. By introducing special weekday promotions or discounted rates, hotels can drive bookings during these quieter periods, thus increasing revenue throughout the week.\n",
        "\n",
        "Additionally, understanding guest demographics is vital. Families with children seem to prefer city hotels, while couples and families with babies may lean toward resort accommodations. Hotels should cater to these preferences by highlighting specific amenities for each group, such as family-friendly rooms or romantic getaway packages.\n",
        "\n",
        "Lastly, promoting advance deposits is essential for both hotels. This approach helps secure revenue faster, reduces cancellations, and minimizes the risk of no-shows. With guests increasingly avoiding pre-deposit bookings, encouraging this practice can help improve financial stability and reduce potential losses.\n",
        "\n",
        "By focusing on these strategies, hotels can enhance their bookings, attract more repeat customers, and maximize their overall revenue."
      ],
      "metadata": {
        "id": "pASKb0qOza21"
      }
    },
    {
      "cell_type": "markdown",
      "source": [
        "# **Conclusion**"
      ],
      "metadata": {
        "id": "gCX9965dhzqZ"
      }
    },
    {
      "cell_type": "markdown",
      "source": [
        "City Hotel holds the largest share of bookings, with 73% of reservations not being canceled. Resort Hotel tends to attract more families and guests with children. However, City Hotel experiences higher cancellation rates, possibly due to their no-deposit and no-cancellation-charge policies.\n",
        "\n",
        "2016 saw the highest number of bookings across both hotels, with August being the peak month for guest arrivals. Additionally, guests tend to prefer weekday stays over weekends.\n",
        "\n",
        "City Resort can be branded as \"Duo/Couple-Friendly\" and \"Children-Friendly,\" while Resort Hotel is more suitable for families with babies. Both hotels have relatively few repeat guests.\n",
        "\n",
        "City Hotel guests typically stay for 2 or 3 days, while Resort Hotel guests often stay for 1 or 7 days. City Hotel guests account for 64% of total special requests, compared to Resort Hotel's 36%. City Hotel also offers more \"No Deposit\" bookings, although Resort Hotel has a higher percentage of no-deposit bookings overall.\n",
        "\n",
        "The price range and standard deviation for City Hotel are lower than Resort Hotel, with Resort Hotel prices exceeding City Hotel rates in peak months like July, August, September, and June. For the remaining months, City Hotel maintains higher prices than Resort Hotel."
      ],
      "metadata": {
        "id": "Fjb1IsQkh3yE"
      }
    },
    {
      "cell_type": "markdown",
      "source": [
        "### ***Hurrah! You have successfully completed your EDA Capstone Project !!!***"
      ],
      "metadata": {
        "id": "gIfDvo9L0UH2"
      }
    }
  ]
}